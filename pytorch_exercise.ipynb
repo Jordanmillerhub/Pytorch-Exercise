{
  "nbformat": 4,
  "nbformat_minor": 0,
  "metadata": {
    "colab": {
      "provenance": []
    },
    "kernelspec": {
      "name": "python3",
      "display_name": "Python 3"
    }
  },
  "cells": [
    {
      "cell_type": "code",
      "metadata": {
        "id": "tSidl29aiT2W"
      },
      "source": [
        "import torch\n",
        "import torch.nn as nn\n",
        "from torch.nn import functional as F\n",
        "\n",
        "import pandas as pd\n",
        "import numpy as np"
      ],
      "execution_count": 2,
      "outputs": []
    },
    {
      "cell_type": "code",
      "metadata": {
        "id": "z1YFLFLgii4H"
      },
      "source": [
        "dataset = pd.read_csv('storepurchasedata_large.csv')"
      ],
      "execution_count": 3,
      "outputs": []
    },
    {
      "cell_type": "code",
      "metadata": {
        "id": "hWHnGlrrinev",
        "outputId": "aec0cff3-e583-4dbc-8290-e89b36e7fe69",
        "colab": {
          "base_uri": "https://localhost:8080/",
          "height": 300
        }
      },
      "source": [
        "dataset.describe()"
      ],
      "execution_count": 4,
      "outputs": [
        {
          "output_type": "execute_result",
          "data": {
            "text/plain": [
              "               Age        Salary    Purchased\n",
              "count  1554.000000   1554.000000  1554.000000\n",
              "mean     44.296010  57042.471042     0.694981\n",
              "std      17.462458  21209.244800     0.460564\n",
              "min      18.000000  20000.000000     0.000000\n",
              "25%      27.000000  46000.000000     0.000000\n",
              "50%      43.000000  60000.000000     1.000000\n",
              "75%      62.000000  66000.000000     1.000000\n",
              "max      69.000000  96000.000000     1.000000"
            ],
            "text/html": [
              "\n",
              "  <div id=\"df-ef8af454-f04c-4b6e-969e-24503427380c\">\n",
              "    <div class=\"colab-df-container\">\n",
              "      <div>\n",
              "<style scoped>\n",
              "    .dataframe tbody tr th:only-of-type {\n",
              "        vertical-align: middle;\n",
              "    }\n",
              "\n",
              "    .dataframe tbody tr th {\n",
              "        vertical-align: top;\n",
              "    }\n",
              "\n",
              "    .dataframe thead th {\n",
              "        text-align: right;\n",
              "    }\n",
              "</style>\n",
              "<table border=\"1\" class=\"dataframe\">\n",
              "  <thead>\n",
              "    <tr style=\"text-align: right;\">\n",
              "      <th></th>\n",
              "      <th>Age</th>\n",
              "      <th>Salary</th>\n",
              "      <th>Purchased</th>\n",
              "    </tr>\n",
              "  </thead>\n",
              "  <tbody>\n",
              "    <tr>\n",
              "      <th>count</th>\n",
              "      <td>1554.000000</td>\n",
              "      <td>1554.000000</td>\n",
              "      <td>1554.000000</td>\n",
              "    </tr>\n",
              "    <tr>\n",
              "      <th>mean</th>\n",
              "      <td>44.296010</td>\n",
              "      <td>57042.471042</td>\n",
              "      <td>0.694981</td>\n",
              "    </tr>\n",
              "    <tr>\n",
              "      <th>std</th>\n",
              "      <td>17.462458</td>\n",
              "      <td>21209.244800</td>\n",
              "      <td>0.460564</td>\n",
              "    </tr>\n",
              "    <tr>\n",
              "      <th>min</th>\n",
              "      <td>18.000000</td>\n",
              "      <td>20000.000000</td>\n",
              "      <td>0.000000</td>\n",
              "    </tr>\n",
              "    <tr>\n",
              "      <th>25%</th>\n",
              "      <td>27.000000</td>\n",
              "      <td>46000.000000</td>\n",
              "      <td>0.000000</td>\n",
              "    </tr>\n",
              "    <tr>\n",
              "      <th>50%</th>\n",
              "      <td>43.000000</td>\n",
              "      <td>60000.000000</td>\n",
              "      <td>1.000000</td>\n",
              "    </tr>\n",
              "    <tr>\n",
              "      <th>75%</th>\n",
              "      <td>62.000000</td>\n",
              "      <td>66000.000000</td>\n",
              "      <td>1.000000</td>\n",
              "    </tr>\n",
              "    <tr>\n",
              "      <th>max</th>\n",
              "      <td>69.000000</td>\n",
              "      <td>96000.000000</td>\n",
              "      <td>1.000000</td>\n",
              "    </tr>\n",
              "  </tbody>\n",
              "</table>\n",
              "</div>\n",
              "      <button class=\"colab-df-convert\" onclick=\"convertToInteractive('df-ef8af454-f04c-4b6e-969e-24503427380c')\"\n",
              "              title=\"Convert this dataframe to an interactive table.\"\n",
              "              style=\"display:none;\">\n",
              "        \n",
              "  <svg xmlns=\"http://www.w3.org/2000/svg\" height=\"24px\"viewBox=\"0 0 24 24\"\n",
              "       width=\"24px\">\n",
              "    <path d=\"M0 0h24v24H0V0z\" fill=\"none\"/>\n",
              "    <path d=\"M18.56 5.44l.94 2.06.94-2.06 2.06-.94-2.06-.94-.94-2.06-.94 2.06-2.06.94zm-11 1L8.5 8.5l.94-2.06 2.06-.94-2.06-.94L8.5 2.5l-.94 2.06-2.06.94zm10 10l.94 2.06.94-2.06 2.06-.94-2.06-.94-.94-2.06-.94 2.06-2.06.94z\"/><path d=\"M17.41 7.96l-1.37-1.37c-.4-.4-.92-.59-1.43-.59-.52 0-1.04.2-1.43.59L10.3 9.45l-7.72 7.72c-.78.78-.78 2.05 0 2.83L4 21.41c.39.39.9.59 1.41.59.51 0 1.02-.2 1.41-.59l7.78-7.78 2.81-2.81c.8-.78.8-2.07 0-2.86zM5.41 20L4 18.59l7.72-7.72 1.47 1.35L5.41 20z\"/>\n",
              "  </svg>\n",
              "      </button>\n",
              "      \n",
              "  <style>\n",
              "    .colab-df-container {\n",
              "      display:flex;\n",
              "      flex-wrap:wrap;\n",
              "      gap: 12px;\n",
              "    }\n",
              "\n",
              "    .colab-df-convert {\n",
              "      background-color: #E8F0FE;\n",
              "      border: none;\n",
              "      border-radius: 50%;\n",
              "      cursor: pointer;\n",
              "      display: none;\n",
              "      fill: #1967D2;\n",
              "      height: 32px;\n",
              "      padding: 0 0 0 0;\n",
              "      width: 32px;\n",
              "    }\n",
              "\n",
              "    .colab-df-convert:hover {\n",
              "      background-color: #E2EBFA;\n",
              "      box-shadow: 0px 1px 2px rgba(60, 64, 67, 0.3), 0px 1px 3px 1px rgba(60, 64, 67, 0.15);\n",
              "      fill: #174EA6;\n",
              "    }\n",
              "\n",
              "    [theme=dark] .colab-df-convert {\n",
              "      background-color: #3B4455;\n",
              "      fill: #D2E3FC;\n",
              "    }\n",
              "\n",
              "    [theme=dark] .colab-df-convert:hover {\n",
              "      background-color: #434B5C;\n",
              "      box-shadow: 0px 1px 3px 1px rgba(0, 0, 0, 0.15);\n",
              "      filter: drop-shadow(0px 1px 2px rgba(0, 0, 0, 0.3));\n",
              "      fill: #FFFFFF;\n",
              "    }\n",
              "  </style>\n",
              "\n",
              "      <script>\n",
              "        const buttonEl =\n",
              "          document.querySelector('#df-ef8af454-f04c-4b6e-969e-24503427380c button.colab-df-convert');\n",
              "        buttonEl.style.display =\n",
              "          google.colab.kernel.accessAllowed ? 'block' : 'none';\n",
              "\n",
              "        async function convertToInteractive(key) {\n",
              "          const element = document.querySelector('#df-ef8af454-f04c-4b6e-969e-24503427380c');\n",
              "          const dataTable =\n",
              "            await google.colab.kernel.invokeFunction('convertToInteractive',\n",
              "                                                     [key], {});\n",
              "          if (!dataTable) return;\n",
              "\n",
              "          const docLinkHtml = 'Like what you see? Visit the ' +\n",
              "            '<a target=\"_blank\" href=https://colab.research.google.com/notebooks/data_table.ipynb>data table notebook</a>'\n",
              "            + ' to learn more about interactive tables.';\n",
              "          element.innerHTML = '';\n",
              "          dataTable['output_type'] = 'display_data';\n",
              "          await google.colab.output.renderOutput(dataTable, element);\n",
              "          const docLink = document.createElement('div');\n",
              "          docLink.innerHTML = docLinkHtml;\n",
              "          element.appendChild(docLink);\n",
              "        }\n",
              "      </script>\n",
              "    </div>\n",
              "  </div>\n",
              "  "
            ]
          },
          "metadata": {},
          "execution_count": 4
        }
      ]
    },
    {
      "cell_type": "code",
      "metadata": {
        "id": "8wRc98iJirF6",
        "outputId": "7679669a-73a3-44ce-816a-feade146188f",
        "colab": {
          "base_uri": "https://localhost:8080/",
          "height": 206
        }
      },
      "source": [
        "dataset.head()"
      ],
      "execution_count": 5,
      "outputs": [
        {
          "output_type": "execute_result",
          "data": {
            "text/plain": [
              "   Age  Salary  Purchased\n",
              "0   18   20000          0\n",
              "1   19   22000          0\n",
              "2   20   24000          0\n",
              "3   21   28000          0\n",
              "4   22   60000          1"
            ],
            "text/html": [
              "\n",
              "  <div id=\"df-60cfa09b-02f5-4e5f-9b53-0ed570237cfc\">\n",
              "    <div class=\"colab-df-container\">\n",
              "      <div>\n",
              "<style scoped>\n",
              "    .dataframe tbody tr th:only-of-type {\n",
              "        vertical-align: middle;\n",
              "    }\n",
              "\n",
              "    .dataframe tbody tr th {\n",
              "        vertical-align: top;\n",
              "    }\n",
              "\n",
              "    .dataframe thead th {\n",
              "        text-align: right;\n",
              "    }\n",
              "</style>\n",
              "<table border=\"1\" class=\"dataframe\">\n",
              "  <thead>\n",
              "    <tr style=\"text-align: right;\">\n",
              "      <th></th>\n",
              "      <th>Age</th>\n",
              "      <th>Salary</th>\n",
              "      <th>Purchased</th>\n",
              "    </tr>\n",
              "  </thead>\n",
              "  <tbody>\n",
              "    <tr>\n",
              "      <th>0</th>\n",
              "      <td>18</td>\n",
              "      <td>20000</td>\n",
              "      <td>0</td>\n",
              "    </tr>\n",
              "    <tr>\n",
              "      <th>1</th>\n",
              "      <td>19</td>\n",
              "      <td>22000</td>\n",
              "      <td>0</td>\n",
              "    </tr>\n",
              "    <tr>\n",
              "      <th>2</th>\n",
              "      <td>20</td>\n",
              "      <td>24000</td>\n",
              "      <td>0</td>\n",
              "    </tr>\n",
              "    <tr>\n",
              "      <th>3</th>\n",
              "      <td>21</td>\n",
              "      <td>28000</td>\n",
              "      <td>0</td>\n",
              "    </tr>\n",
              "    <tr>\n",
              "      <th>4</th>\n",
              "      <td>22</td>\n",
              "      <td>60000</td>\n",
              "      <td>1</td>\n",
              "    </tr>\n",
              "  </tbody>\n",
              "</table>\n",
              "</div>\n",
              "      <button class=\"colab-df-convert\" onclick=\"convertToInteractive('df-60cfa09b-02f5-4e5f-9b53-0ed570237cfc')\"\n",
              "              title=\"Convert this dataframe to an interactive table.\"\n",
              "              style=\"display:none;\">\n",
              "        \n",
              "  <svg xmlns=\"http://www.w3.org/2000/svg\" height=\"24px\"viewBox=\"0 0 24 24\"\n",
              "       width=\"24px\">\n",
              "    <path d=\"M0 0h24v24H0V0z\" fill=\"none\"/>\n",
              "    <path d=\"M18.56 5.44l.94 2.06.94-2.06 2.06-.94-2.06-.94-.94-2.06-.94 2.06-2.06.94zm-11 1L8.5 8.5l.94-2.06 2.06-.94-2.06-.94L8.5 2.5l-.94 2.06-2.06.94zm10 10l.94 2.06.94-2.06 2.06-.94-2.06-.94-.94-2.06-.94 2.06-2.06.94z\"/><path d=\"M17.41 7.96l-1.37-1.37c-.4-.4-.92-.59-1.43-.59-.52 0-1.04.2-1.43.59L10.3 9.45l-7.72 7.72c-.78.78-.78 2.05 0 2.83L4 21.41c.39.39.9.59 1.41.59.51 0 1.02-.2 1.41-.59l7.78-7.78 2.81-2.81c.8-.78.8-2.07 0-2.86zM5.41 20L4 18.59l7.72-7.72 1.47 1.35L5.41 20z\"/>\n",
              "  </svg>\n",
              "      </button>\n",
              "      \n",
              "  <style>\n",
              "    .colab-df-container {\n",
              "      display:flex;\n",
              "      flex-wrap:wrap;\n",
              "      gap: 12px;\n",
              "    }\n",
              "\n",
              "    .colab-df-convert {\n",
              "      background-color: #E8F0FE;\n",
              "      border: none;\n",
              "      border-radius: 50%;\n",
              "      cursor: pointer;\n",
              "      display: none;\n",
              "      fill: #1967D2;\n",
              "      height: 32px;\n",
              "      padding: 0 0 0 0;\n",
              "      width: 32px;\n",
              "    }\n",
              "\n",
              "    .colab-df-convert:hover {\n",
              "      background-color: #E2EBFA;\n",
              "      box-shadow: 0px 1px 2px rgba(60, 64, 67, 0.3), 0px 1px 3px 1px rgba(60, 64, 67, 0.15);\n",
              "      fill: #174EA6;\n",
              "    }\n",
              "\n",
              "    [theme=dark] .colab-df-convert {\n",
              "      background-color: #3B4455;\n",
              "      fill: #D2E3FC;\n",
              "    }\n",
              "\n",
              "    [theme=dark] .colab-df-convert:hover {\n",
              "      background-color: #434B5C;\n",
              "      box-shadow: 0px 1px 3px 1px rgba(0, 0, 0, 0.15);\n",
              "      filter: drop-shadow(0px 1px 2px rgba(0, 0, 0, 0.3));\n",
              "      fill: #FFFFFF;\n",
              "    }\n",
              "  </style>\n",
              "\n",
              "      <script>\n",
              "        const buttonEl =\n",
              "          document.querySelector('#df-60cfa09b-02f5-4e5f-9b53-0ed570237cfc button.colab-df-convert');\n",
              "        buttonEl.style.display =\n",
              "          google.colab.kernel.accessAllowed ? 'block' : 'none';\n",
              "\n",
              "        async function convertToInteractive(key) {\n",
              "          const element = document.querySelector('#df-60cfa09b-02f5-4e5f-9b53-0ed570237cfc');\n",
              "          const dataTable =\n",
              "            await google.colab.kernel.invokeFunction('convertToInteractive',\n",
              "                                                     [key], {});\n",
              "          if (!dataTable) return;\n",
              "\n",
              "          const docLinkHtml = 'Like what you see? Visit the ' +\n",
              "            '<a target=\"_blank\" href=https://colab.research.google.com/notebooks/data_table.ipynb>data table notebook</a>'\n",
              "            + ' to learn more about interactive tables.';\n",
              "          element.innerHTML = '';\n",
              "          dataTable['output_type'] = 'display_data';\n",
              "          await google.colab.output.renderOutput(dataTable, element);\n",
              "          const docLink = document.createElement('div');\n",
              "          docLink.innerHTML = docLinkHtml;\n",
              "          element.appendChild(docLink);\n",
              "        }\n",
              "      </script>\n",
              "    </div>\n",
              "  </div>\n",
              "  "
            ]
          },
          "metadata": {},
          "execution_count": 5
        }
      ]
    },
    {
      "cell_type": "code",
      "metadata": {
        "id": "lGW-UkoEiu1k"
      },
      "source": [
        "X = dataset.iloc[:, :-1].values\n",
        "y = dataset.iloc[:,-1].values"
      ],
      "execution_count": 6,
      "outputs": []
    },
    {
      "cell_type": "code",
      "metadata": {
        "id": "WwqBbDl-izXb"
      },
      "source": [
        "from sklearn.model_selection import train_test_split\n",
        "X_train, X_test, y_train, y_test = train_test_split(X, y, test_size =.20,random_state=0)"
      ],
      "execution_count": 7,
      "outputs": []
    },
    {
      "cell_type": "code",
      "metadata": {
        "id": "tt_zXndVi9s7"
      },
      "source": [
        "from sklearn.preprocessing import StandardScaler\n",
        "sc = StandardScaler()\n",
        "X_train = sc.fit_transform(X_train)\n",
        "X_test = sc.transform(X_test)"
      ],
      "execution_count": 8,
      "outputs": []
    },
    {
      "cell_type": "code",
      "metadata": {
        "id": "nUPzbcxnjCdW"
      },
      "source": [
        "Xtrain_ = torch.from_numpy(X_train).float()\n",
        "Xtest_ = torch.from_numpy(X_test).float()"
      ],
      "execution_count": 9,
      "outputs": []
    },
    {
      "cell_type": "code",
      "metadata": {
        "id": "DchzoXyEjNzU",
        "outputId": "7f556f1c-45f3-494c-f1fc-fc0108444110",
        "colab": {
          "base_uri": "https://localhost:8080/"
        }
      },
      "source": [
        "Xtrain_"
      ],
      "execution_count": 10,
      "outputs": [
        {
          "output_type": "execute_result",
          "data": {
            "text/plain": [
              "tensor([[-0.0935,  0.2215],\n",
              "        [ 1.2217, -0.5342],\n",
              "        [-1.0655,  0.4104],\n",
              "        ...,\n",
              "        [ 1.2789,  0.4104],\n",
              "        [-0.9512,  0.2215],\n",
              "        [-1.2943, -1.4316]])"
            ]
          },
          "metadata": {},
          "execution_count": 10
        }
      ]
    },
    {
      "cell_type": "code",
      "metadata": {
        "id": "EX0_BrxojP7k"
      },
      "source": [
        "#Converting to tensor format\n",
        "ytrain_ = torch.from_numpy(y_train)\n",
        "ytest_ = torch.from_numpy(y_test)"
      ],
      "execution_count": 11,
      "outputs": []
    },
    {
      "cell_type": "code",
      "metadata": {
        "id": "zzOAG9QQjU1e",
        "outputId": "b394c0dc-c988-4694-966a-7efc9cb8f642",
        "colab": {
          "base_uri": "https://localhost:8080/"
        }
      },
      "source": [
        "ytrain_"
      ],
      "execution_count": 12,
      "outputs": [
        {
          "output_type": "execute_result",
          "data": {
            "text/plain": [
              "tensor([1, 1, 1,  ..., 1, 1, 0])"
            ]
          },
          "metadata": {},
          "execution_count": 12
        }
      ]
    },
    {
      "cell_type": "code",
      "metadata": {
        "id": "TTw284qajWim",
        "outputId": "761b2ed4-6898-44e7-e330-0c21f5f968f8",
        "colab": {
          "base_uri": "https://localhost:8080/"
        }
      },
      "source": [
        "Xtrain_.shape, ytrain_.shape"
      ],
      "execution_count": 13,
      "outputs": [
        {
          "output_type": "execute_result",
          "data": {
            "text/plain": [
              "(torch.Size([1243, 2]), torch.Size([1243]))"
            ]
          },
          "metadata": {},
          "execution_count": 13
        }
      ]
    },
    {
      "cell_type": "code",
      "metadata": {
        "id": "ZD4SHx5ujaS-",
        "outputId": "80875138-bf60-483e-9ae4-af3d34a20bbb",
        "colab": {
          "base_uri": "https://localhost:8080/"
        }
      },
      "source": [
        "Xtest_.shape, ytest_.shape"
      ],
      "execution_count": 14,
      "outputs": [
        {
          "output_type": "execute_result",
          "data": {
            "text/plain": [
              "(torch.Size([311, 2]), torch.Size([311]))"
            ]
          },
          "metadata": {},
          "execution_count": 14
        }
      ]
    },
    {
      "cell_type": "code",
      "metadata": {
        "id": "vrLRbXL0jeJp"
      },
      "source": [
        "#input size for features, output for labels, hidden equals number of neurons in layers\n",
        "input_size=2\n",
        "output_size=2\n",
        "hidden_size=10"
      ],
      "execution_count": 15,
      "outputs": []
    },
    {
      "cell_type": "code",
      "metadata": {
        "id": "sHLzhDGQj1IU"
      },
      "source": [
        "class Net(nn.Module):\n",
        "   def __init__(self):\n",
        "       super(Net, self).__init__()\n",
        "       self.fc1 = torch.nn.Linear(input_size, hidden_size) #fc = fully connected layer. All neurons connected, Input to hidden\n",
        "       self.fc2 = torch.nn.Linear(hidden_size, hidden_size) #hidden to hidden layer\n",
        "       self.fc3 = torch.nn.Linear(hidden_size, output_size) #hiddent to output. two hidden layers total\n",
        "\n",
        "\n",
        "   def forward(self, X):\n",
        "       X = torch.relu((self.fc1(X))) #relu activation in hyden layers. Helps find when values become useful. EX, people do not start buying prodcuts until age 20 \n",
        "       X = torch.relu((self.fc2(X)))\n",
        "       X = self.fc3(X)\n",
        "\n",
        "       return F.log_softmax(X,dim=1) #softmax converts neural output to a multinomial probability distribution for classification problems. "
      ],
      "execution_count": 16,
      "outputs": []
    },
    {
      "cell_type": "code",
      "metadata": {
        "id": "BmtsSyOakHMi"
      },
      "source": [
        "model = Net()\n",
        "\n"
      ],
      "execution_count": 17,
      "outputs": []
    },
    {
      "cell_type": "code",
      "metadata": {
        "id": "Y1hD_xJakMWR"
      },
      "source": [
        "import torch.optim as optim\n",
        "optimizer = torch.optim.Adam(model.parameters(), lr=0.01)\n",
        "loss_fn = nn.NLLLoss()"
      ],
      "execution_count": 18,
      "outputs": []
    },
    {
      "cell_type": "code",
      "metadata": {
        "id": "4dUAOz5SkVwc"
      },
      "source": [
        "epochs = 100\n"
      ],
      "execution_count": 19,
      "outputs": []
    },
    {
      "cell_type": "code",
      "metadata": {
        "id": "n7A3HMbbkZ6s",
        "outputId": "d04aa805-3d7b-4782-b7dc-0ca8bf20ede8",
        "colab": {
          "base_uri": "https://localhost:8080/"
        }
      },
      "source": [
        "for epoch in range(epochs):\n",
        "  optimizer.zero_grad()\n",
        "  Ypred = model(Xtrain_)\n",
        "  loss = loss_fn(Ypred,  ytrain_) #tracking loss on each epoch.\n",
        "  loss.backward()\n",
        "  optimizer.step()\n",
        "  print('Epoch',epoch, 'loss',loss.item())"
      ],
      "execution_count": 20,
      "outputs": [
        {
          "output_type": "stream",
          "name": "stdout",
          "text": [
            "Epoch 0 loss 0.7282726764678955\n",
            "Epoch 1 loss 0.7126734256744385\n",
            "Epoch 2 loss 0.6962888240814209\n",
            "Epoch 3 loss 0.6796692609786987\n",
            "Epoch 4 loss 0.66259765625\n",
            "Epoch 5 loss 0.6451107263565063\n",
            "Epoch 6 loss 0.6267644166946411\n",
            "Epoch 7 loss 0.607507050037384\n",
            "Epoch 8 loss 0.5873623490333557\n",
            "Epoch 9 loss 0.5662058591842651\n",
            "Epoch 10 loss 0.5443200469017029\n",
            "Epoch 11 loss 0.5218295454978943\n",
            "Epoch 12 loss 0.4986516237258911\n",
            "Epoch 13 loss 0.47522640228271484\n",
            "Epoch 14 loss 0.4517792761325836\n",
            "Epoch 15 loss 0.4289405047893524\n",
            "Epoch 16 loss 0.4070834815502167\n",
            "Epoch 17 loss 0.38679584860801697\n",
            "Epoch 18 loss 0.3682653307914734\n",
            "Epoch 19 loss 0.3508813679218292\n",
            "Epoch 20 loss 0.33476781845092773\n",
            "Epoch 21 loss 0.3198454678058624\n",
            "Epoch 22 loss 0.3061002492904663\n",
            "Epoch 23 loss 0.2931402325630188\n",
            "Epoch 24 loss 0.2806519865989685\n",
            "Epoch 25 loss 0.26860377192497253\n",
            "Epoch 26 loss 0.2571456730365753\n",
            "Epoch 27 loss 0.24620980024337769\n",
            "Epoch 28 loss 0.23596009612083435\n",
            "Epoch 29 loss 0.22626672685146332\n",
            "Epoch 30 loss 0.21747742593288422\n",
            "Epoch 31 loss 0.20932915806770325\n",
            "Epoch 32 loss 0.20160742104053497\n",
            "Epoch 33 loss 0.19438862800598145\n",
            "Epoch 34 loss 0.18764537572860718\n",
            "Epoch 35 loss 0.18149849772453308\n",
            "Epoch 36 loss 0.17603008449077606\n",
            "Epoch 37 loss 0.17101804912090302\n",
            "Epoch 38 loss 0.16635215282440186\n",
            "Epoch 39 loss 0.16225920617580414\n",
            "Epoch 40 loss 0.15826454758644104\n",
            "Epoch 41 loss 0.1544109284877777\n",
            "Epoch 42 loss 0.15094751119613647\n",
            "Epoch 43 loss 0.1477266103029251\n",
            "Epoch 44 loss 0.14463648200035095\n",
            "Epoch 45 loss 0.14158907532691956\n",
            "Epoch 46 loss 0.13888131082057953\n",
            "Epoch 47 loss 0.13689786195755005\n",
            "Epoch 48 loss 0.13491976261138916\n",
            "Epoch 49 loss 0.13290785253047943\n",
            "Epoch 50 loss 0.13106216490268707\n",
            "Epoch 51 loss 0.12941443920135498\n",
            "Epoch 52 loss 0.1279837042093277\n",
            "Epoch 53 loss 0.126671701669693\n",
            "Epoch 54 loss 0.12533843517303467\n",
            "Epoch 55 loss 0.12396994233131409\n",
            "Epoch 56 loss 0.12259436398744583\n",
            "Epoch 57 loss 0.12125562131404877\n",
            "Epoch 58 loss 0.12007347494363785\n",
            "Epoch 59 loss 0.11902491003274918\n",
            "Epoch 60 loss 0.11801871657371521\n",
            "Epoch 61 loss 0.11709026247262955\n",
            "Epoch 62 loss 0.1162337064743042\n",
            "Epoch 63 loss 0.11538669466972351\n",
            "Epoch 64 loss 0.11454518884420395\n",
            "Epoch 65 loss 0.11378861963748932\n",
            "Epoch 66 loss 0.11314955353736877\n",
            "Epoch 67 loss 0.11242673546075821\n",
            "Epoch 68 loss 0.11179742962121964\n",
            "Epoch 69 loss 0.11120186746120453\n",
            "Epoch 70 loss 0.11058084666728973\n",
            "Epoch 71 loss 0.10996497422456741\n",
            "Epoch 72 loss 0.10943032801151276\n",
            "Epoch 73 loss 0.10899367928504944\n",
            "Epoch 74 loss 0.10850651562213898\n",
            "Epoch 75 loss 0.10808831453323364\n",
            "Epoch 76 loss 0.10783693194389343\n",
            "Epoch 77 loss 0.10747362673282623\n",
            "Epoch 78 loss 0.10699261724948883\n",
            "Epoch 79 loss 0.10679304599761963\n",
            "Epoch 80 loss 0.10656924545764923\n",
            "Epoch 81 loss 0.10628654807806015\n",
            "Epoch 82 loss 0.10598601400852203\n",
            "Epoch 83 loss 0.10567721724510193\n",
            "Epoch 84 loss 0.1053842306137085\n",
            "Epoch 85 loss 0.10511481761932373\n",
            "Epoch 86 loss 0.1048719733953476\n",
            "Epoch 87 loss 0.10459817945957184\n",
            "Epoch 88 loss 0.10445570200681686\n",
            "Epoch 89 loss 0.10427739471197128\n",
            "Epoch 90 loss 0.10404554754495621\n",
            "Epoch 91 loss 0.10376568138599396\n",
            "Epoch 92 loss 0.10346715897321701\n",
            "Epoch 93 loss 0.1034618690609932\n",
            "Epoch 94 loss 0.10329459607601166\n",
            "Epoch 95 loss 0.10299305617809296\n",
            "Epoch 96 loss 0.10296248644590378\n",
            "Epoch 97 loss 0.10282154381275177\n",
            "Epoch 98 loss 0.10248496383428574\n",
            "Epoch 99 loss 0.10246509313583374\n"
          ]
        }
      ]
    },
    {
      "cell_type": "code",
      "metadata": {
        "id": "8tCbFPQekqD7",
        "outputId": "115ae004-0706-46bd-bda9-c009fd911e6f",
        "colab": {
          "base_uri": "https://localhost:8080/"
        }
      },
      "source": [
        "list(model.parameters())"
      ],
      "execution_count": 21,
      "outputs": [
        {
          "output_type": "execute_result",
          "data": {
            "text/plain": [
              "[Parameter containing:\n",
              " tensor([[-0.3622, -1.0820],\n",
              "         [-0.1485, -0.7900],\n",
              "         [-0.1059, -0.2297],\n",
              "         [ 0.4338, -1.2020],\n",
              "         [ 0.9556,  0.1003],\n",
              "         [-0.0489,  0.0922],\n",
              "         [-0.3906, -0.6401],\n",
              "         [ 0.8760,  0.9435],\n",
              "         [ 1.1214, -1.0266],\n",
              "         [ 1.1170,  0.6277]], requires_grad=True), Parameter containing:\n",
              " tensor([ 0.0582,  0.1692,  0.6380,  0.0734,  0.2235, -0.3857,  0.2636,  0.4070,\n",
              "         -0.4218,  0.5164], requires_grad=True), Parameter containing:\n",
              " tensor([[-0.4883, -0.2586,  0.2851, -0.2845,  0.5507, -0.2682,  0.1875,  0.5617,\n",
              "           0.5647,  0.2195],\n",
              "         [-0.0209,  0.0436,  0.2692, -0.1608, -0.2071,  0.1825, -0.2062,  0.2406,\n",
              "          -0.1111, -0.2608],\n",
              "         [-0.4570, -0.2578,  0.0780,  0.5636,  0.5373, -0.0652, -0.4591,  0.1822,\n",
              "           0.7904,  0.3245],\n",
              "         [-0.2859, -0.1058, -0.2531, -0.6481,  0.7085,  0.0335,  0.3802,  0.2904,\n",
              "           0.9382,  0.3937],\n",
              "         [-0.2324, -0.2757, -0.0809,  0.2176,  0.5088,  0.0089, -0.1876,  0.5367,\n",
              "           0.5744,  0.5183],\n",
              "         [-0.5007, -0.5681,  0.6523,  0.1915,  0.7057,  0.2816, -0.1067,  0.2295,\n",
              "           0.6288,  0.1614],\n",
              "         [-0.4629, -0.2687,  0.2917, -0.2590,  0.1747,  0.2984,  0.3719,  0.6055,\n",
              "           0.3401,  0.4731],\n",
              "         [ 0.6148,  0.4956,  0.6517,  0.2908, -0.5415,  0.1537,  0.1790, -0.0861,\n",
              "          -0.1388, -0.6926],\n",
              "         [ 0.7311,  0.2210,  0.2714,  0.4383, -0.1001,  0.2728,  0.5498, -0.2184,\n",
              "          -0.2106, -0.7297],\n",
              "         [-0.2189, -0.0986,  0.1678, -0.0656,  0.0642, -0.1822, -0.1619,  0.1217,\n",
              "          -0.0187, -0.3762]], requires_grad=True), Parameter containing:\n",
              " tensor([ 0.4113, -0.2493,  0.3079,  0.5975,  0.3449,  0.4841,  0.1651, -0.2489,\n",
              "         -0.3469, -0.3129], requires_grad=True), Parameter containing:\n",
              " tensor([[-0.3056,  0.0331, -0.5040, -0.2018, -0.7610, -0.6014, -0.7136,  0.4002,\n",
              "           0.6628,  0.1745],\n",
              "         [ 0.7201, -0.1950,  0.8152,  0.6209,  0.9989,  0.5452,  0.5137, -0.5279,\n",
              "          -0.8001,  0.0710]], requires_grad=True), Parameter containing:\n",
              " tensor([-0.2821,  0.1642], requires_grad=True)]"
            ]
          },
          "metadata": {},
          "execution_count": 21
        }
      ]
    },
    {
      "cell_type": "code",
      "metadata": {
        "id": "G5uCfbcjk8Ul",
        "outputId": "194cd2c3-3316-4045-cc5d-bce1118d84da",
        "colab": {
          "base_uri": "https://localhost:8080/"
        }
      },
      "source": [
        "y_cust_20_40000 = model(torch.from_numpy(sc.transform(np.array([[40,20000]]))).float())\n",
        "y_cust_20_40000 #first output would be 0 (not buying), or 1 (buying) make sure data is in Torch format and scaled. "
      ],
      "execution_count": 22,
      "outputs": [
        {
          "output_type": "execute_result",
          "data": {
            "text/plain": [
              "tensor([[-1.5695e-03, -6.4578e+00]], grad_fn=<LogSoftmaxBackward0>)"
            ]
          },
          "metadata": {},
          "execution_count": 22
        }
      ]
    },
    {
      "cell_type": "code",
      "metadata": {
        "id": "ai8UmN6elEws",
        "outputId": "7f6aa50d-b36a-408f-afa6-00878592247b",
        "colab": {
          "base_uri": "https://localhost:8080/"
        }
      },
      "source": [
        "_, predicted_20_40000 = torch.max(y_cust_20_40000.data,-1)\n",
        "predicted_20_40000 #using max, gives you the index for the highest probability"
      ],
      "execution_count": 23,
      "outputs": [
        {
          "output_type": "execute_result",
          "data": {
            "text/plain": [
              "tensor([0])"
            ]
          },
          "metadata": {},
          "execution_count": 23
        }
      ]
    },
    {
      "cell_type": "code",
      "metadata": {
        "id": "V4EcicUzlNLL",
        "outputId": "0918efb7-2f86-45e2-9f23-f0056a1818ac",
        "colab": {
          "base_uri": "https://localhost:8080/"
        }
      },
      "source": [
        "y_cust_42_50000 = model(torch.from_numpy(sc.transform(np.array([[42,50000]]))).float())\n",
        "y_cust_42_50000"
      ],
      "execution_count": 24,
      "outputs": [
        {
          "output_type": "execute_result",
          "data": {
            "text/plain": [
              "tensor([[-0.8554, -0.5536]], grad_fn=<LogSoftmaxBackward0>)"
            ]
          },
          "metadata": {},
          "execution_count": 24
        }
      ]
    },
    {
      "cell_type": "code",
      "metadata": {
        "id": "BsCTqgcUlSMj",
        "outputId": "fa49fb76-9eb3-492c-9ff1-d2d3bf8d81b9",
        "colab": {
          "base_uri": "https://localhost:8080/"
        }
      },
      "source": [
        "_, predicted_42_50000 = torch.max(y_cust_42_50000.data,-1)\n",
        "predicted_42_50000"
      ],
      "execution_count": 25,
      "outputs": [
        {
          "output_type": "execute_result",
          "data": {
            "text/plain": [
              "tensor([1])"
            ]
          },
          "metadata": {},
          "execution_count": 25
        }
      ]
    },
    {
      "cell_type": "code",
      "metadata": {
        "id": "VwpCd3vRlXWk"
      },
      "source": [
        "#saving for later\n",
        "torch.save(model,'customer_neuralnetwork.pt')"
      ],
      "execution_count": 26,
      "outputs": []
    },
    {
      "cell_type": "code",
      "metadata": {
        "id": "wcrKfl8kljs2",
        "outputId": "9989056c-ddaa-4727-8924-652d75cfdb9f",
        "colab": {
          "base_uri": "https://localhost:8080/"
        }
      },
      "source": [
        "!ls"
      ],
      "execution_count": 27,
      "outputs": [
        {
          "output_type": "stream",
          "name": "stdout",
          "text": [
            "customer_neuralnetwork.pt  sample_data\n"
          ]
        }
      ]
    },
    {
      "cell_type": "code",
      "metadata": {
        "id": "VwbReEK7lnmQ"
      },
      "source": [
        "restored_model = torch.load('customer_neuralnetwork.pt')"
      ],
      "execution_count": 28,
      "outputs": []
    },
    {
      "cell_type": "code",
      "metadata": {
        "id": "5j_iiPwVlsVm",
        "outputId": "f7ca3581-da24-49e5-f350-90c869f73457",
        "colab": {
          "base_uri": "https://localhost:8080/"
        }
      },
      "source": [
        "y_cust_20_40000 = restored_model(torch.from_numpy(sc.transform(np.array([[40,20000]]))).float())\n",
        "y_cust_20_40000"
      ],
      "execution_count": 29,
      "outputs": [
        {
          "output_type": "execute_result",
          "data": {
            "text/plain": [
              "tensor([[-1.5695e-03, -6.4578e+00]], grad_fn=<LogSoftmaxBackward0>)"
            ]
          },
          "metadata": {},
          "execution_count": 29
        }
      ]
    },
    {
      "cell_type": "code",
      "metadata": {
        "id": "JWDR8djBlv5P",
        "outputId": "14629820-4bb8-4cd3-9c13-68817d2e9f54",
        "colab": {
          "base_uri": "https://localhost:8080/"
        }
      },
      "source": [
        "_, predicted_20_40000 = torch.max(y_cust_20_40000.data,-1)\n",
        "predicted_20_40000"
      ],
      "execution_count": 30,
      "outputs": [
        {
          "output_type": "execute_result",
          "data": {
            "text/plain": [
              "tensor([0])"
            ]
          },
          "metadata": {},
          "execution_count": 30
        }
      ]
    },
    {
      "cell_type": "code",
      "metadata": {
        "id": "ikQlQwQtl1o1",
        "outputId": "fa37bc71-5961-4e56-bb55-bcf05c8a06c1",
        "colab": {
          "base_uri": "https://localhost:8080/"
        }
      },
      "source": [
        "model.state_dict()"
      ],
      "execution_count": 31,
      "outputs": [
        {
          "output_type": "execute_result",
          "data": {
            "text/plain": [
              "OrderedDict([('fc1.weight', tensor([[-0.3622, -1.0820],\n",
              "                      [-0.1485, -0.7900],\n",
              "                      [-0.1059, -0.2297],\n",
              "                      [ 0.4338, -1.2020],\n",
              "                      [ 0.9556,  0.1003],\n",
              "                      [-0.0489,  0.0922],\n",
              "                      [-0.3906, -0.6401],\n",
              "                      [ 0.8760,  0.9435],\n",
              "                      [ 1.1214, -1.0266],\n",
              "                      [ 1.1170,  0.6277]])),\n",
              "             ('fc1.bias',\n",
              "              tensor([ 0.0582,  0.1692,  0.6380,  0.0734,  0.2235, -0.3857,  0.2636,  0.4070,\n",
              "                      -0.4218,  0.5164])),\n",
              "             ('fc2.weight',\n",
              "              tensor([[-0.4883, -0.2586,  0.2851, -0.2845,  0.5507, -0.2682,  0.1875,  0.5617,\n",
              "                        0.5647,  0.2195],\n",
              "                      [-0.0209,  0.0436,  0.2692, -0.1608, -0.2071,  0.1825, -0.2062,  0.2406,\n",
              "                       -0.1111, -0.2608],\n",
              "                      [-0.4570, -0.2578,  0.0780,  0.5636,  0.5373, -0.0652, -0.4591,  0.1822,\n",
              "                        0.7904,  0.3245],\n",
              "                      [-0.2859, -0.1058, -0.2531, -0.6481,  0.7085,  0.0335,  0.3802,  0.2904,\n",
              "                        0.9382,  0.3937],\n",
              "                      [-0.2324, -0.2757, -0.0809,  0.2176,  0.5088,  0.0089, -0.1876,  0.5367,\n",
              "                        0.5744,  0.5183],\n",
              "                      [-0.5007, -0.5681,  0.6523,  0.1915,  0.7057,  0.2816, -0.1067,  0.2295,\n",
              "                        0.6288,  0.1614],\n",
              "                      [-0.4629, -0.2687,  0.2917, -0.2590,  0.1747,  0.2984,  0.3719,  0.6055,\n",
              "                        0.3401,  0.4731],\n",
              "                      [ 0.6148,  0.4956,  0.6517,  0.2908, -0.5415,  0.1537,  0.1790, -0.0861,\n",
              "                       -0.1388, -0.6926],\n",
              "                      [ 0.7311,  0.2210,  0.2714,  0.4383, -0.1001,  0.2728,  0.5498, -0.2184,\n",
              "                       -0.2106, -0.7297],\n",
              "                      [-0.2189, -0.0986,  0.1678, -0.0656,  0.0642, -0.1822, -0.1619,  0.1217,\n",
              "                       -0.0187, -0.3762]])),\n",
              "             ('fc2.bias',\n",
              "              tensor([ 0.4113, -0.2493,  0.3079,  0.5975,  0.3449,  0.4841,  0.1651, -0.2489,\n",
              "                      -0.3469, -0.3129])),\n",
              "             ('fc3.weight',\n",
              "              tensor([[-0.3056,  0.0331, -0.5040, -0.2018, -0.7610, -0.6014, -0.7136,  0.4002,\n",
              "                        0.6628,  0.1745],\n",
              "                      [ 0.7201, -0.1950,  0.8152,  0.6209,  0.9989,  0.5452,  0.5137, -0.5279,\n",
              "                       -0.8001,  0.0710]])),\n",
              "             ('fc3.bias', tensor([-0.2821,  0.1642]))])"
            ]
          },
          "metadata": {},
          "execution_count": 31
        }
      ]
    },
    {
      "cell_type": "code",
      "metadata": {
        "id": "t8XHBuj3mAXx"
      },
      "source": [
        "#saving using dictionary\n",
        "torch.save(model.state_dict(),'customer_dict_neuralnetwork')"
      ],
      "execution_count": 32,
      "outputs": []
    },
    {
      "cell_type": "code",
      "metadata": {
        "id": "dhKlDAtLmPZG",
        "outputId": "4c1cf805-c9a5-47bc-937b-ae0fa8243c78",
        "colab": {
          "base_uri": "https://localhost:8080/"
        }
      },
      "source": [
        "!ls"
      ],
      "execution_count": 33,
      "outputs": [
        {
          "output_type": "stream",
          "name": "stdout",
          "text": [
            "customer_dict_neuralnetwork  customer_neuralnetwork.pt\tsample_data\n"
          ]
        }
      ]
    },
    {
      "cell_type": "code",
      "metadata": {
        "id": "RWrbBfLlma-j"
      },
      "source": [
        "new_predictor = Net()"
      ],
      "execution_count": 34,
      "outputs": []
    },
    {
      "cell_type": "code",
      "metadata": {
        "id": "6c29JI0AmfSc",
        "outputId": "12f6093d-778a-4c29-c211-1ca00f7369b5",
        "colab": {
          "base_uri": "https://localhost:8080/"
        }
      },
      "source": [
        "y_cust_20_40000 = new_predictor(torch.from_numpy(sc.transform(np.array([[40,20000]]))).float())\n",
        "y_cust_20_40000"
      ],
      "execution_count": 35,
      "outputs": [
        {
          "output_type": "execute_result",
          "data": {
            "text/plain": [
              "tensor([[-0.7785, -0.6145]], grad_fn=<LogSoftmaxBackward0>)"
            ]
          },
          "metadata": {},
          "execution_count": 35
        }
      ]
    },
    {
      "cell_type": "code",
      "metadata": {
        "id": "IXghzRixmTfR",
        "outputId": "eff1cecc-cdac-411b-d504-b9085fa8bc02",
        "colab": {
          "base_uri": "https://localhost:8080/"
        }
      },
      "source": [
        "!zip -r customer_dict_neuralnetwork.zip customer_dict_neuralnetwork"
      ],
      "execution_count": 36,
      "outputs": [
        {
          "output_type": "stream",
          "name": "stdout",
          "text": [
            "  adding: customer_dict_neuralnetwork (deflated 47%)\n"
          ]
        }
      ]
    },
    {
      "cell_type": "code",
      "metadata": {
        "id": "Pjeh8t5pmZMv",
        "outputId": "856b4dea-abbe-458b-c467-4b5b51e9e02f",
        "colab": {
          "base_uri": "https://localhost:8080/"
        }
      },
      "source": [
        "!ls"
      ],
      "execution_count": 37,
      "outputs": [
        {
          "output_type": "stream",
          "name": "stdout",
          "text": [
            "customer_dict_neuralnetwork\t customer_neuralnetwork.pt\n",
            "customer_dict_neuralnetwork.zip  sample_data\n"
          ]
        }
      ]
    },
    {
      "cell_type": "code",
      "metadata": {
        "id": "UlPL_x6QmlRI"
      },
      "source": [
        "from google.colab import files\n"
      ],
      "execution_count": 38,
      "outputs": []
    },
    {
      "cell_type": "code",
      "metadata": {
        "id": "Aukqgbnqmpjm",
        "outputId": "28b531fc-ab4a-4c62-ebf7-8f3a9acb4aab",
        "colab": {
          "base_uri": "https://localhost:8080/",
          "height": 17
        }
      },
      "source": [
        "#files.download('customer_dict_neuralnetwork.zip')"
      ],
      "execution_count": 39,
      "outputs": [
        {
          "output_type": "display_data",
          "data": {
            "text/plain": [
              "<IPython.core.display.Javascript object>"
            ],
            "application/javascript": [
              "\n",
              "    async function download(id, filename, size) {\n",
              "      if (!google.colab.kernel.accessAllowed) {\n",
              "        return;\n",
              "      }\n",
              "      const div = document.createElement('div');\n",
              "      const label = document.createElement('label');\n",
              "      label.textContent = `Downloading \"${filename}\": `;\n",
              "      div.appendChild(label);\n",
              "      const progress = document.createElement('progress');\n",
              "      progress.max = size;\n",
              "      div.appendChild(progress);\n",
              "      document.body.appendChild(div);\n",
              "\n",
              "      const buffers = [];\n",
              "      let downloaded = 0;\n",
              "\n",
              "      const channel = await google.colab.kernel.comms.open(id);\n",
              "      // Send a message to notify the kernel that we're ready.\n",
              "      channel.send({})\n",
              "\n",
              "      for await (const message of channel.messages) {\n",
              "        // Send a message to notify the kernel that we're ready.\n",
              "        channel.send({})\n",
              "        if (message.buffers) {\n",
              "          for (const buffer of message.buffers) {\n",
              "            buffers.push(buffer);\n",
              "            downloaded += buffer.byteLength;\n",
              "            progress.value = downloaded;\n",
              "          }\n",
              "        }\n",
              "      }\n",
              "      const blob = new Blob(buffers, {type: 'application/binary'});\n",
              "      const a = document.createElement('a');\n",
              "      a.href = window.URL.createObjectURL(blob);\n",
              "      a.download = filename;\n",
              "      div.appendChild(a);\n",
              "      a.click();\n",
              "      div.remove();\n",
              "    }\n",
              "  "
            ]
          },
          "metadata": {}
        },
        {
          "output_type": "display_data",
          "data": {
            "text/plain": [
              "<IPython.core.display.Javascript object>"
            ],
            "application/javascript": [
              "download(\"download_18750be7-031b-4e2a-9794-19093162a39d\", \"customer_dict_neuralnetwork.zip\", 1620)"
            ]
          },
          "metadata": {}
        }
      ]
    },
    {
      "cell_type": "code",
      "metadata": {
        "id": "aCkgk2WEmrsX"
      },
      "source": [],
      "execution_count": null,
      "outputs": []
    }
  ]
}
